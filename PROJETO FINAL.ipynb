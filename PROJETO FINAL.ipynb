import pandas as pd
import numpy as np
import os
import matplotlib.pyplot as plt
import seaborn as sns

from sklearn.model_selection import train_test_split
from sklearn.preprocessing import LabelEncoder, StandardScaler
from sklearn.ensemble import RandomForestClassifier
from sklearn.metrics import classification_report, confusion_matrix, ConfusionMatrixDisplay
from google.colab import files

uploaded = files.upload()

df = pd.read_csv('predictive_maintenance.csv')

# 3. Pré-processamento

# Codificar a coluna 'Type' (L, M, H)
df['Type'] = LabelEncoder().fit_transform(df['Type'])

# Separar X e y
X = df.drop(columns=['Failure Type'])
y = df['Failure Type']

# Normalização dos dados numéricos
scaler = StandardScaler()
X_scaled = scaler.fit_transform(X)

# 4. Dividir treino e teste
X_train, X_test, y_train, y_test = train_test_split(
    X_scaled, y, test_size=0.3, random_state=42, stratify=y)

# 5. Treinar Random Forest
model = RandomForestClassifier(n_estimators=100, random_state=42)
model.fit(X_train, y_train)

# 6. Avaliação
y_pred = model.predict(X_test)

print("\n--- Classification Report ---\n")
print(classification_report(y_test, y_pred))

# 7. Matriz de confusão
ConfusionMatrixDisplay.from_estimator(model, X_test, y_test, cmap="Blues")
plt.title("Matriz de Confusão - Random Forest")
plt.xticks(rotation=45)
plt.tight_layout()
plt.show()

